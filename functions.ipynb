{
 "cells": [
  {
   "cell_type": "code",
   "execution_count": 1,
   "metadata": {},
   "outputs": [
    {
     "name": "stdout",
     "output_type": "stream",
     "text": [
      "Daniel Razal\n"
     ]
    }
   ],
   "source": [
    "def print_name():\n",
    "    print(\"Daniel Razal\")\n",
    "\n",
    "print_name()    "
   ]
  },
  {
   "cell_type": "code",
   "execution_count": null,
   "metadata": {},
   "outputs": [
    {
     "name": "stdout",
     "output_type": "stream",
     "text": [
      "Daniel\n",
      "Razal\n"
     ]
    }
   ],
   "source": [
    "def print_name(name):\n",
    "    print(name)\n",
    "\n",
    "print_name(\"Daniel\")\n",
    "print_name(\"Razal\")    "
   ]
  },
  {
   "cell_type": "code",
   "execution_count": null,
   "metadata": {},
   "outputs": [
    {
     "name": "stdout",
     "output_type": "stream",
     "text": [
      "10\n"
     ]
    }
   ],
   "source": [
    "def sum_two_numbers(a,b):\n",
    "    print(a + b)\n",
    "\n",
    "sum_two_numbers(3,7)"
   ]
  },
  {
   "cell_type": "code",
   "execution_count": null,
   "metadata": {},
   "outputs": [
    {
     "name": "stdout",
     "output_type": "stream",
     "text": [
      "1170.0\n"
     ]
    }
   ],
   "source": [
    "def add_tax_to_price(price,tax):\n",
    "    sum = price * (tax / 100)\n",
    "    print(price + sum)\n",
    "\n",
    "add_tax_to_price(1000,17)"
   ]
  },
  {
   "cell_type": "code",
   "execution_count": 43,
   "metadata": {},
   "outputs": [],
   "source": [
    "\n",
    "def odd_or_even(num):\n",
    "    if(num % 2 == 0):\n",
    "        return 0\n",
    "    else:\n",
    "        return 1\n",
    "\n",
    "x = int(input(\"Enter a number: \"))\n",
    "odd_or_even(x)"
   ]
  },
  {
   "cell_type": "code",
   "execution_count": null,
   "metadata": {},
   "outputs": [
    {
     "name": "stdout",
     "output_type": "stream",
     "text": [
      "3.0\n"
     ]
    }
   ],
   "source": [
    "def average_between_range_of_numbers(num):\n",
    "    sum = 0\n",
    "\n",
    "    for i in range(num + 1):\n",
    "        sum += i\n",
    "\n",
    "    avg = sum / num\n",
    "    print(avg)\n",
    "\n",
    "average_between_range_of_numbers(5)"
   ]
  },
  {
   "cell_type": "code",
   "execution_count": null,
   "metadata": {},
   "outputs": [
    {
     "name": "stdout",
     "output_type": "stream",
     "text": [
      "The number 34334 has 5 digits.\n",
      "The number 5666 has 4 digits.\n",
      "The number 888 has 3 digits.\n",
      "The program are stop\n"
     ]
    }
   ],
   "source": [
    "def count_of_numbers():\n",
    "\n",
    "    x = 0\n",
    "    while(x != -999):\n",
    "        x = int(input(\"Enter a number: \"))\n",
    "        if x == -999:\n",
    "            print(\"stop\")\n",
    "            break\n",
    "        num = x\n",
    "        counter = 0\n",
    "        while(num >= 1):\n",
    "            num /= 10\n",
    "            counter +=1\n",
    "        print(f\"The number {x} has {counter} digits.\")\n",
    "\n",
    "count_of_numbers()"
   ]
  },
  {
   "cell_type": "code",
   "execution_count": 7,
   "metadata": {},
   "outputs": [
    {
     "name": "stdout",
     "output_type": "stream",
     "text": [
      "1 * 20 = 20\n",
      "1 * 10 = 10\n",
      "0 * 5 = 0\n",
      "0 * 1 = 0\n",
      "\n",
      "Total: 30\n"
     ]
    }
   ],
   "source": [
    "def odef(num):\n",
    "    twenty = 20\n",
    "    ten = 10\n",
    "    five = 5\n",
    "    one = 1\n",
    "    \n",
    "    twenties = num // twenty\n",
    "    num %= twenty\n",
    "    \n",
    "    tens = num // ten\n",
    "    num %= ten\n",
    "    \n",
    "    fives = num // five\n",
    "    num %= five\n",
    "    \n",
    "    ones = num // one\n",
    "    \n",
    "    return f\"{twenties} * 20 = {twenties * 20}\\n{tens} * 10 = {tens * 10}\\n{fives} * 5 = {fives * 5}\\n{ones} * 1 = {ones * 1}\\n\\nTotal: {twenties * 20 + tens * 10 + fives * 5 + ones * 1}\"\n",
    "\n",
    "print(odef(30))\n"
   ]
  },
  {
   "cell_type": "code",
   "execution_count": 9,
   "metadata": {},
   "outputs": [
    {
     "name": "stdout",
     "output_type": "stream",
     "text": [
      "8\n"
     ]
    }
   ],
   "source": [
    "def my_pow(num, power):\n",
    "    return num ** power\n",
    "\n",
    "\n",
    "x = my_pow(2, 3)\n",
    "print(x)"
   ]
  },
  {
   "cell_type": "code",
   "execution_count": 30,
   "metadata": {},
   "outputs": [
    {
     "data": {
      "text/plain": [
       "900"
      ]
     },
     "execution_count": 30,
     "metadata": {},
     "output_type": "execute_result"
    }
   ],
   "source": [
    "import math\n",
    "def discount(price):\n",
    "    if price > 1000:\n",
    "       return do_new_discount(price,99)\n",
    "    else:\n",
    "        return do_new_discount(price,10)\n",
    "    \n",
    "def do_new_discount(price,discount):\n",
    "    if discount > 100:\n",
    "        discount = 100\n",
    "    x = price * (discount / 100)\n",
    "\n",
    "    return math.floor(price - x)\n",
    "\n",
    "discount(1000)"
   ]
  },
  {
   "cell_type": "code",
   "execution_count": 20,
   "metadata": {},
   "outputs": [
    {
     "name": "stdout",
     "output_type": "stream",
     "text": [
      "3\n"
     ]
    }
   ],
   "source": [
    "import math\n",
    "def main_fun_for_calc(num1,num2):\n",
    "    x = ''\n",
    "    while(x != 'e'):\n",
    "        x = input(f'a- the biggest devider\\nb- the smallest divider\\nc- the result of pow(a,b)\\nd- the result of sqrt(a)-sqrt(b)]')\n",
    "\n",
    "        if x == 'a':\n",
    "           print(math.gcd(num1, num2))\n",
    "        elif x =='b':\n",
    "            print(\"i do not know to do this\")\n",
    "        elif x == 'c':\n",
    "            print(num1 ** num2)\n",
    "        elif x == 'd':\n",
    "            print(math.sqrt(num1) - math.sqrt(num2))\n",
    "\n",
    "\n",
    "\n",
    "main_fun_for_calc(9,6)"
   ]
  },
  {
   "cell_type": "code",
   "execution_count": 35,
   "metadata": {},
   "outputs": [
    {
     "name": "stdout",
     "output_type": "stream",
     "text": [
      "There is special treatment for a customer with a number 0\n"
     ]
    }
   ],
   "source": [
    "def is_special_treatment(client_number,x):\n",
    "    if(x == True):\n",
    "        return f\"There is special treatment for a customer with a number {client_number}\"\n",
    "        \n",
    "def special_treatment():\n",
    "    a = int(input(\"Enter ur client number: \"))\n",
    "    b = int(input(\"Enter the amount you bought this year: \"))\n",
    "    c = bool(input(\"Did you pay on time? (enter 1 for yes, else 0)\"))\n",
    "    d = int(input(\"How many years have you been buying from us?\"))\n",
    "\n",
    "    if (b > 8000 and c == True) or (b > 8000 and d > 5) or (c == True and d > 5) or (c == True):\n",
    "        x = is_special_treatment(a,c)\n",
    "        print(x)\n",
    "    else:\n",
    "        return \"There is no special treatment\"\n",
    "\n",
    "\n",
    "special_treatment()\n"
   ]
  },
  {
   "cell_type": "code",
   "execution_count": 6,
   "metadata": {},
   "outputs": [
    {
     "data": {
      "text/plain": [
       "64"
      ]
     },
     "execution_count": 6,
     "metadata": {},
     "output_type": "execute_result"
    }
   ],
   "source": [
    "def add_three_number(x,y,z):\n",
    "    return x+y+z\n",
    "\n",
    "x = add_three_number(1,3,4)\n",
    "\n",
    "x ** 2"
   ]
  }
 ],
 "metadata": {
  "kernelspec": {
   "display_name": "Python 3",
   "language": "python",
   "name": "python3"
  },
  "language_info": {
   "codemirror_mode": {
    "name": "ipython",
    "version": 3
   },
   "file_extension": ".py",
   "mimetype": "text/x-python",
   "name": "python",
   "nbconvert_exporter": "python",
   "pygments_lexer": "ipython3",
   "version": "3.11.7"
  }
 },
 "nbformat": 4,
 "nbformat_minor": 2
}
