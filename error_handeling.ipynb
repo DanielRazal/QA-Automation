{
 "cells": [
  {
   "cell_type": "code",
   "execution_count": null,
   "metadata": {},
   "outputs": [],
   "source": [
    "# Error handeling"
   ]
  },
  {
   "cell_type": "code",
   "execution_count": 9,
   "metadata": {},
   "outputs": [],
   "source": [
    "try:\n",
    "    # f = open(\"Daniel.txt\")\n",
    "    # x = 10 / 0 \n",
    "    '3x' + 5\n",
    "except Exception as e:\n",
    "    with open('rundev.log','a') as f:\n",
    "        f.write(str(e))"
   ]
  },
  {
   "cell_type": "code",
   "execution_count": 24,
   "metadata": {},
   "outputs": [
    {
     "name": "stdout",
     "output_type": "stream",
     "text": [
      "\n"
     ]
    }
   ],
   "source": [
    "# assert\n",
    "title = \"JSON Data Set Sample\"\n",
    "\n",
    "try:\n",
    "    assert(title == \"JSON Data Set Sample1\")\n",
    "except AssertionError:\n",
    "    print(\"Error\")\n",
    "\n",
    "except Exception as ex:\n",
    "    print(\"error\")\n",
    "\n"
   ]
  }
 ],
 "metadata": {
  "kernelspec": {
   "display_name": "Python 3",
   "language": "python",
   "name": "python3"
  },
  "language_info": {
   "codemirror_mode": {
    "name": "ipython",
    "version": 3
   },
   "file_extension": ".py",
   "mimetype": "text/x-python",
   "name": "python",
   "nbconvert_exporter": "python",
   "pygments_lexer": "ipython3",
   "version": "3.11.7"
  }
 },
 "nbformat": 4,
 "nbformat_minor": 2
}
