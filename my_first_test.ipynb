{
 "cells": [
  {
   "cell_type": "markdown",
   "metadata": {},
   "source": []
  },
  {
   "cell_type": "code",
   "execution_count": 4,
   "metadata": {},
   "outputs": [
    {
     "name": "stdout",
     "output_type": "stream",
     "text": [
      "hello world\n"
     ]
    },
    {
     "data": {
      "text/plain": [
       "'\\nTHIS IS  A COMMENT \\nAND NEW LINE\\n\\n'"
      ]
     },
     "execution_count": 4,
     "metadata": {},
     "output_type": "execute_result"
    }
   ],
   "source": [
    "print('hello world')\n",
    "\n",
    "# This is a comment\n",
    "\n",
    "\"\"\"\n",
    "THIS IS  A COMMENT \n",
    "AND NEW LINE\n",
    "\n",
    "\"\"\""
   ]
  },
  {
   "cell_type": "code",
   "execution_count": 9,
   "metadata": {},
   "outputs": [
    {
     "name": "stdout",
     "output_type": "stream",
     "text": [
      "71f71f71f71f71f\n"
     ]
    }
   ],
   "source": [
    "X = 5\n",
    "Y = '71f'\n",
    "print(X * Y)"
   ]
  },
  {
   "cell_type": "code",
   "execution_count": 11,
   "metadata": {},
   "outputs": [
    {
     "name": "stdout",
     "output_type": "stream",
     "text": [
      "3322 dsdssd\n"
     ]
    }
   ],
   "source": [
    "s = '3322'\n",
    "t = 'dsdssd'\n",
    "print(s + ' ' +  t)"
   ]
  },
  {
   "cell_type": "code",
   "execution_count": 12,
   "metadata": {},
   "outputs": [
    {
     "name": "stdout",
     "output_type": "stream",
     "text": [
      "1.2\n",
      "1\n"
     ]
    }
   ],
   "source": [
    "print(6 / 5)\n",
    "print(6 // 5)"
   ]
  },
  {
   "cell_type": "code",
   "execution_count": 16,
   "metadata": {},
   "outputs": [
    {
     "name": "stdout",
     "output_type": "stream",
     "text": [
      "Good morning Daniel Razal , have a nice day\n",
      "Good morning Daniel Razal , have a nice day\n"
     ]
    }
   ],
   "source": [
    "first_name = \"Daniel\"\n",
    "last_name = \"Razal\"\n",
    "print('Good morning {} {} , have a nice day'.format(first_name,last_name))\n",
    "\n",
    "print(f'Good morning {first_name} {last_name} , have a nice day')"
   ]
  },
  {
   "cell_type": "code",
   "execution_count": 18,
   "metadata": {},
   "outputs": [
    {
     "name": "stdout",
     "output_type": "stream",
     "text": [
      "5 + 3 = 8\n"
     ]
    }
   ],
   "source": [
    "# 5 + 3 = 8\n",
    "\n",
    "x = 5\n",
    "y = 3\n",
    "\n",
    "print(f'{x} + {y} = {x + y}')"
   ]
  },
  {
   "cell_type": "code",
   "execution_count": 21,
   "metadata": {},
   "outputs": [
    {
     "name": "stdout",
     "output_type": "stream",
     "text": [
      "Good morning Daniel Razal , have a nice day\n"
     ]
    }
   ],
   "source": [
    "# input\n",
    "\n",
    "x = input('please enter your first name: ')\n",
    "y = input('please enter your last name: ')\n",
    "print(f'Good morning {x} {y} , have a nice day')\n"
   ]
  },
  {
   "cell_type": "code",
   "execution_count": 25,
   "metadata": {},
   "outputs": [
    {
     "name": "stdout",
     "output_type": "stream",
     "text": [
      "<class 'int'>\n",
      "62\n"
     ]
    }
   ],
   "source": [
    "# Casting - defulat is string\n",
    "i = int(input('enter your age: '))\n",
    "print(type(i))\n",
    "print(i + 6)"
   ]
  },
  {
   "cell_type": "code",
   "execution_count": 27,
   "metadata": {},
   "outputs": [
    {
     "name": "stdout",
     "output_type": "stream",
     "text": [
      "5 * 6 = 30\n"
     ]
    }
   ],
   "source": [
    "x = int(input('please enter first number: '))\n",
    "y = int(input('please enter second number: '))\n",
    "print(f'{x} * {y} = {x * y}')\n"
   ]
  },
  {
   "cell_type": "code",
   "execution_count": 28,
   "metadata": {},
   "outputs": [
    {
     "data": {
      "text/plain": [
       "81"
      ]
     },
     "execution_count": 28,
     "metadata": {},
     "output_type": "execute_result"
    }
   ],
   "source": [
    "pow(3,4)"
   ]
  },
  {
   "cell_type": "code",
   "execution_count": 48,
   "metadata": {},
   "outputs": [
    {
     "name": "stdout",
     "output_type": "stream",
     "text": [
      "The pow of 2 is: 4\n"
     ]
    }
   ],
   "source": [
    "x = int(input('please enter first number: '))\n",
    "y= pow(x,2)\n",
    "print(f'The pow of {x} is: {y}')"
   ]
  },
  {
   "cell_type": "code",
   "execution_count": 55,
   "metadata": {},
   "outputs": [
    {
     "data": {
      "text/plain": [
       "'\\n    math.ceil(x)\\n    math.floor(y)\\n    round(x,3)\\n'"
      ]
     },
     "execution_count": 55,
     "metadata": {},
     "output_type": "execute_result"
    }
   ],
   "source": [
    "import math\n",
    "x = math.sqrt(10)\n",
    "y = math.sqrt(10)\n",
    "\"\"\"\n",
    "    math.ceil(x)\n",
    "    math.floor(y)\n",
    "    round(x,3)\n",
    "\"\"\""
   ]
  },
  {
   "cell_type": "code",
   "execution_count": 77,
   "metadata": {},
   "outputs": [
    {
     "data": {
      "text/plain": [
       "True"
      ]
     },
     "execution_count": 77,
     "metadata": {},
     "output_type": "execute_result"
    }
   ],
   "source": [
    "s = 'Hi,my name is Daniel Razal'\n",
    "\n",
    "s.count('a')\n",
    "s.find('y')\n",
    "s.index('y')\n",
    "s.upper()\n",
    "s.isupper()\n",
    "s.islower()\n",
    "s.lower()\n",
    "s.upper().isupper()\n",
    "s.split(',')\n",
    "s.startswith(\"Hi,my name is \")\n",
    "s.endswith(\"Daniel Razal\")"
   ]
  },
  {
   "cell_type": "code",
   "execution_count": 85,
   "metadata": {},
   "outputs": [
    {
     "name": "stdout",
     "output_type": "stream",
     "text": [
      "england\n"
     ]
    }
   ],
   "source": [
    "first = input(\"enter first country: \")\n",
    "second = input(\"enter second country: \")\n",
    "third = input(\"enter third country: \")\n",
    "\n",
    "allCountries = f'{first}:{second}:{third}'\n",
    "\n",
    "x = allCountries.split(\":\")\n",
    "print(x[1])"
   ]
  }
 ],
 "metadata": {
  "kernelspec": {
   "display_name": "Python 3",
   "language": "python",
   "name": "python3"
  },
  "language_info": {
   "codemirror_mode": {
    "name": "ipython",
    "version": 3
   },
   "file_extension": ".py",
   "mimetype": "text/x-python",
   "name": "python",
   "nbconvert_exporter": "python",
   "pygments_lexer": "ipython3",
   "version": "3.11.7"
  }
 },
 "nbformat": 4,
 "nbformat_minor": 2
}
