{
 "cells": [
  {
   "cell_type": "code",
   "execution_count": 4,
   "metadata": {},
   "outputs": [
    {
     "name": "stdout",
     "output_type": "stream",
     "text": [
      "0\n",
      "1\n",
      "2\n",
      "3\n",
      "4\n",
      "5\n",
      "6\n",
      "7\n",
      "8\n",
      "9\n"
     ]
    }
   ],
   "source": [
    "for i in range(0,10):\n",
    "    print(i)"
   ]
  },
  {
   "cell_type": "code",
   "execution_count": 6,
   "metadata": {},
   "outputs": [
    {
     "name": "stdout",
     "output_type": "stream",
     "text": [
      "0\n",
      "1\n",
      "4\n",
      "9\n",
      "16\n",
      "25\n",
      "36\n",
      "49\n",
      "64\n",
      "81\n",
      "9\n"
     ]
    }
   ],
   "source": [
    "for i in range(10):\n",
    "    print(pow(i,2))\n",
    "print(i)\n"
   ]
  },
  {
   "cell_type": "code",
   "execution_count": 7,
   "metadata": {},
   "outputs": [
    {
     "name": "stdout",
     "output_type": "stream",
     "text": [
      "p\n",
      "y\n",
      "t\n",
      "h\n",
      "o\n",
      "n\n"
     ]
    }
   ],
   "source": [
    "for i in 'python':\n",
    "    print(i)"
   ]
  },
  {
   "cell_type": "code",
   "execution_count": 8,
   "metadata": {},
   "outputs": [
    {
     "name": "stdout",
     "output_type": "stream",
     "text": [
      "2\n",
      "4\n",
      "6\n",
      "python\n"
     ]
    }
   ],
   "source": [
    "for i in [2,4,6,'python']:\n",
    "    print(i)"
   ]
  },
  {
   "cell_type": "code",
   "execution_count": 48,
   "metadata": {},
   "outputs": [
    {
     "name": "stdout",
     "output_type": "stream",
     "text": [
      "5\n",
      "7\n",
      "9\n",
      "11\n"
     ]
    }
   ],
   "source": [
    "ls = [2,3,4,5,6]\n",
    "\n",
    "# output - 5,7,9,11\n",
    "\n",
    "len(ls) -1 \n",
    "\n",
    "for i in range(0,len(ls) -1):\n",
    "    print(ls[i] + ls[i + 1])\n"
   ]
  },
  {
   "cell_type": "code",
   "execution_count": 62,
   "metadata": {},
   "outputs": [
    {
     "name": "stdout",
     "output_type": "stream",
     "text": [
      "20\n"
     ]
    }
   ],
   "source": [
    "ls = [2,3,4,5,6]\n",
    "sum = 0\n",
    "\n",
    "for i in range(len(ls)):\n",
    "    sum += ls[i]\n",
    "\n",
    "print(sum)"
   ]
  },
  {
   "cell_type": "code",
   "execution_count": 72,
   "metadata": {},
   "outputs": [
    {
     "name": "stdout",
     "output_type": "stream",
     "text": [
      "2\n",
      "4\n",
      "6\n",
      "8\n"
     ]
    }
   ],
   "source": [
    "ls = [1,2,3,4,5,6,7,8]\n",
    "\n",
    "for i in range(len(ls)):\n",
    "    if(ls[i] % 2 == 0):\n",
    "        print(ls[i])\n"
   ]
  },
  {
   "cell_type": "code",
   "execution_count": 74,
   "metadata": {},
   "outputs": [
    {
     "name": "stdout",
     "output_type": "stream",
     "text": [
      "3\n",
      "9\n",
      "15\n",
      "21\n",
      "27\n",
      "33\n",
      "39\n",
      "45\n",
      "51\n",
      "57\n",
      "63\n",
      "69\n",
      "75\n",
      "81\n",
      "87\n",
      "93\n",
      "99\n"
     ]
    }
   ],
   "source": [
    "for i in range(0,100,3):\n",
    "    if(i % 2 == 1):\n",
    "        print(i)\n"
   ]
  },
  {
   "cell_type": "code",
   "execution_count": 95,
   "metadata": {},
   "outputs": [
    {
     "name": "stdout",
     "output_type": "stream",
     "text": [
      "0\n",
      "1\n",
      "2\n",
      "3\n",
      "4\n",
      "5\n",
      "6\n",
      "boom\n",
      "8\n",
      "9\n",
      "10\n",
      "11\n",
      "12\n",
      "13\n",
      "boom\n",
      "15\n",
      "16\n",
      "boom\n",
      "18\n",
      "19\n",
      "20\n",
      "boom\n",
      "22\n",
      "23\n",
      "24\n",
      "25\n",
      "26\n",
      "boom\n",
      "boom\n",
      "29\n",
      "30\n",
      "31\n",
      "32\n",
      "33\n",
      "34\n",
      "boom\n",
      "36\n",
      "boom\n",
      "38\n",
      "39\n",
      "40\n",
      "41\n",
      "boom\n",
      "43\n",
      "44\n",
      "45\n",
      "46\n",
      "boom\n",
      "48\n",
      "boom\n",
      "50\n",
      "51\n",
      "52\n",
      "53\n",
      "54\n",
      "55\n",
      "boom\n",
      "boom\n",
      "58\n",
      "59\n",
      "60\n",
      "61\n",
      "62\n",
      "boom\n",
      "64\n",
      "65\n",
      "66\n",
      "boom\n",
      "68\n",
      "69\n",
      "boom\n",
      "boom\n",
      "boom\n",
      "boom\n",
      "boom\n",
      "boom\n",
      "boom\n",
      "boom\n",
      "boom\n",
      "boom\n",
      "80\n",
      "81\n",
      "82\n",
      "83\n",
      "boom\n",
      "85\n",
      "86\n",
      "boom\n",
      "88\n",
      "89\n",
      "90\n",
      "boom\n",
      "92\n",
      "93\n",
      "94\n",
      "95\n",
      "96\n",
      "boom\n",
      "boom\n",
      "99\n"
     ]
    }
   ],
   "source": [
    "for i in range(0,100):\n",
    "    if(i % 7 == 0 and i != 0) or (str(i).find('7') > -1):\n",
    "        print('boom')\n",
    "    else:\n",
    "        print(i)"
   ]
  },
  {
   "cell_type": "code",
   "execution_count": 137,
   "metadata": {},
   "outputs": [
    {
     "name": "stdout",
     "output_type": "stream",
     "text": [
      "3\n",
      "3\n"
     ]
    }
   ],
   "source": [
    "p = 'xyz'\n",
    "\n",
    "ls = ['dssa','dssdasa','dd','xyz','sds']\n",
    "index = 0\n",
    "\n",
    "for i in ls:\n",
    "    if(i == p):\n",
    "        print(index)\n",
    "    else:\n",
    "        index += 1\n",
    "\n",
    "# or\n",
    "\n",
    "for i in range(0,len(ls)):\n",
    "    if(ls[i] == p):\n",
    "        print(i)\n",
    "\n"
   ]
  },
  {
   "cell_type": "code",
   "execution_count": 139,
   "metadata": {},
   "outputs": [
    {
     "name": "stdout",
     "output_type": "stream",
     "text": [
      "0\n",
      "1\n",
      "2\n",
      "3\n",
      "4\n",
      "5\n",
      "6\n",
      "7\n",
      "8\n",
      "9\n"
     ]
    }
   ],
   "source": [
    "i = 0\n",
    "\n",
    "while (i < 10):\n",
    "    print(i)\n",
    "    i += 1"
   ]
  },
  {
   "cell_type": "code",
   "execution_count": 140,
   "metadata": {},
   "outputs": [
    {
     "name": "stdout",
     "output_type": "stream",
     "text": [
      "166\n"
     ]
    }
   ],
   "source": [
    "i = 0\n",
    "sum = 0\n",
    "while (i != 99):\n",
    "    sum += i\n",
    "    i = int(input('Enter a number: '))\n",
    "\n",
    "print(sum)\n"
   ]
  },
  {
   "cell_type": "code",
   "execution_count": 146,
   "metadata": {},
   "outputs": [
    {
     "name": "stdout",
     "output_type": "stream",
     "text": [
      "0\n"
     ]
    }
   ],
   "source": [
    "password = 'pass'\n",
    "i = 0\n",
    "counter = 0\n",
    "while (i != password):\n",
    "    i = input('Enter a number: ')\n",
    "    counter += 1\n",
    "\n",
    "print(counter - 1)\n"
   ]
  },
  {
   "cell_type": "code",
   "execution_count": 163,
   "metadata": {},
   "outputs": [
    {
     "name": "stdout",
     "output_type": "stream",
     "text": [
      "23\n"
     ]
    }
   ],
   "source": [
    "import random as rd\n",
    "\n",
    "x = rd.randint(0,10)\n",
    "i = -1\n",
    "counter = 0\n",
    "while i != x:\n",
    "    i = int(input('Enter a number: '))\n",
    "    counter += 1\n",
    "\n",
    "print(counter)\n",
    "\n"
   ]
  }
 ],
 "metadata": {
  "kernelspec": {
   "display_name": "Python 3",
   "language": "python",
   "name": "python3"
  },
  "language_info": {
   "codemirror_mode": {
    "name": "ipython",
    "version": 3
   },
   "file_extension": ".py",
   "mimetype": "text/x-python",
   "name": "python",
   "nbconvert_exporter": "python",
   "pygments_lexer": "ipython3",
   "version": "3.11.7"
  }
 },
 "nbformat": 4,
 "nbformat_minor": 2
}
