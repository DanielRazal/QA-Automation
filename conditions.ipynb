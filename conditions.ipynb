{
 "cells": [
  {
   "cell_type": "code",
   "execution_count": 4,
   "metadata": {},
   "outputs": [
    {
     "name": "stdout",
     "output_type": "stream",
     "text": [
      "y is bigger\n"
     ]
    }
   ],
   "source": [
    "x = 5\n",
    "y = 9\n",
    "\n",
    "if x > y:\n",
    "    print('x is bigger')\n",
    "else:\n",
    "    print('y is bigger')"
   ]
  },
  {
   "cell_type": "code",
   "execution_count": 12,
   "metadata": {},
   "outputs": [
    {
     "name": "stdout",
     "output_type": "stream",
     "text": [
      "Spain will win\n"
     ]
    }
   ],
   "source": [
    "x = 'France:Spain:England'\n",
    "\n",
    "y = x.split(\":\")\n",
    "\n",
    "if(y[1].startswith('S')):\n",
    "    print(f'{y[1]} will win')\n",
    "else:\n",
    "    print(f'{y[2]} will win')\n"
   ]
  },
  {
   "cell_type": "code",
   "execution_count": 24,
   "metadata": {},
   "outputs": [
    {
     "name": "stdout",
     "output_type": "stream",
     "text": [
      "you are correct\n"
     ]
    }
   ],
   "source": [
    "import math\n",
    "x = '10:35:25:69:71'\n",
    "\n",
    "y = x.split(\":\")\n",
    "number = int(y[2])\n",
    "\n",
    "if(math.sqrt(number) == 5):\n",
    "    print(\"you are correct\")\n",
    "else:\n",
    "    print(\"you are wrong\")\n"
   ]
  },
  {
   "cell_type": "code",
   "execution_count": 29,
   "metadata": {},
   "outputs": [
    {
     "name": "stdout",
     "output_type": "stream",
     "text": [
      "x is equal to y\n"
     ]
    }
   ],
   "source": [
    "x = 7\n",
    "y = 7\n",
    "\n",
    "if x > y:\n",
    "    print('x is bigger')\n",
    "elif x == y:\n",
    "    print('x is equal to y')\n",
    "else:\n",
    "    print('y is bigger')"
   ]
  },
  {
   "cell_type": "code",
   "execution_count": 34,
   "metadata": {},
   "outputs": [
    {
     "name": "stdout",
     "output_type": "stream",
     "text": [
      "42.5\n"
     ]
    }
   ],
   "source": [
    "price = 50\n",
    "\n",
    "if(price < 10):\n",
    "    price = price * 0.90\n",
    "elif(price < 100):\n",
    "    price = price * 0.85\n",
    "elif(price < 200):\n",
    "    price = price * 0.80\n",
    "else:\n",
    "    price = price * 0.70\n",
    "\n",
    "print(price)"
   ]
  },
  {
   "cell_type": "code",
   "execution_count": 10,
   "metadata": {},
   "outputs": [
    {
     "name": "stdout",
     "output_type": "stream",
     "text": [
      "6 + 2 = 8\n",
      "6 - 2 = 4\n",
      "6 * 2 = 12\n",
      "6 / 2 = 3.0\n",
      "6 // 2 = 3\n",
      "6 % 2 = 0\n"
     ]
    }
   ],
   "source": [
    "# Exercises 1 + 2\n",
    "\n",
    "a = 6\n",
    "b = 2\n",
    "\n",
    "print(f'{a} + {b} = {a + b}\\n{a} - {b} = {a - b}\\n{a} * {b} = {a * b}\\n{a} / {b} = {a / b}\\n{a} // {b} = {a // b}\\n{a} % {b} = {a % b}')"
   ]
  },
  {
   "cell_type": "code",
   "execution_count": 12,
   "metadata": {},
   "outputs": [
    {
     "name": "stdout",
     "output_type": "stream",
     "text": [
      "5 8 13 -3 40 0.625\n"
     ]
    }
   ],
   "source": [
    "# Exercises 4\n",
    "\n",
    "a = int(input(\"please enter a intger number: \"))\n",
    "b = int(input(\"please enter a intger number: \"))\n",
    "c = a + b\n",
    "d = a - b\n",
    "e = a * b\n",
    "f = a / b\n",
    "\n",
    "print(a,b,c,d,e,f)"
   ]
  },
  {
   "cell_type": "code",
   "execution_count": 9,
   "metadata": {},
   "outputs": [
    {
     "data": {
      "text/plain": [
       "'dlroW olleH'"
      ]
     },
     "execution_count": 9,
     "metadata": {},
     "output_type": "execute_result"
    }
   ],
   "source": [
    "# Slicer\n",
    "\n",
    "x = 'Hello World'\n",
    "\n",
    "x[0:3]\n",
    "x[:4]\n",
    "x[0:]\n",
    "x[2:]\n",
    "x[::2]\n",
    "x[-1]\n",
    "x[:-2]\n",
    "x[::-1]"
   ]
  },
  {
   "cell_type": "code",
   "execution_count": 20,
   "metadata": {},
   "outputs": [
    {
     "name": "stdout",
     "output_type": "stream",
     "text": [
      "Dazal\n"
     ]
    }
   ],
   "source": [
    "fname = 'Daniel'\n",
    "lname = 'Razal'\n",
    "\n",
    "print(f'{fname[0:2] + lname[-3:]}')"
   ]
  },
  {
   "cell_type": "code",
   "execution_count": 25,
   "metadata": {},
   "outputs": [
    {
     "name": "stdout",
     "output_type": "stream",
     "text": [
      "aef dbc\n"
     ]
    }
   ],
   "source": [
    "x = 'abc'\n",
    "y = 'def'\n",
    "\n",
    "# output - aef dbc\n",
    "\n",
    "print(f'{x[0] + y[-2:]} {y[0] + x[-2:]}')"
   ]
  }
 ],
 "metadata": {
  "kernelspec": {
   "display_name": "Python 3",
   "language": "python",
   "name": "python3"
  },
  "language_info": {
   "codemirror_mode": {
    "name": "ipython",
    "version": 3
   },
   "file_extension": ".py",
   "mimetype": "text/x-python",
   "name": "python",
   "nbconvert_exporter": "python",
   "pygments_lexer": "ipython3",
   "version": "3.11.7"
  }
 },
 "nbformat": 4,
 "nbformat_minor": 2
}
